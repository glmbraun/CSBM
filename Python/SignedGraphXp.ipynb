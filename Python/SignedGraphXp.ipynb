{
 "cells": [
  {
   "cell_type": "code",
   "execution_count": 1,
   "id": "bcbae0be",
   "metadata": {},
   "outputs": [],
   "source": [
    "import numpy as np\n",
    "import pandas as pd\n",
    "import seaborn as sns\n",
    "from signet.cluster import Cluster \n",
    "from signet.block_models import SSBM\n",
    "from sklearn.metrics import adjusted_rand_score\n",
    "from sklearn.metrics.cluster import normalized_mutual_info_score\n",
    "import matplotlib.pyplot as plt\n",
    "from functions import *"
   ]
  },
  {
   "cell_type": "code",
   "execution_count": 2,
   "id": "59ce96bb",
   "metadata": {},
   "outputs": [],
   "source": [
    "# Iterative refinement methods\n",
    "\n",
    "def sIR_SBM(A,Z_init,k, iter=10):\n",
    "    n = Z_init.shape[0]\n",
    "    W = Z_init/Z_init.sum(0)\n",
    "    clust = convertZ(Z_init)\n",
    "    for rep in range(iter):\n",
    "        C = A @ W\n",
    "        Pi = np.transpose(W)@A@W\n",
    "        for i in range(n):\n",
    "            ls = [np.linalg.norm(C[i,]-Pi[kk,]) for kk in range(k)]\n",
    "            clust[i] = np.argmin(ls)\n",
    "        W = convertClust(clust)/convertClust(clust).sum(0)\n",
    "        return clust\n",
    "    \n",
    "def IR_SSBM(A,Z_init,k, iter=10):\n",
    "    n = Z_init.shape[0]\n",
    "    W = Z_init/Z_init.sum(0)\n",
    "    clust = convertZ(Z_init)\n",
    "    for rep in range(iter):\n",
    "        C = A @ W\n",
    "        for i in range(n):\n",
    "            clust[i] = np.argmax(C[i,:])\n",
    "        W = convertClust(clust)/convertClust(clust).sum(0)\n",
    "        return clust\n",
    "\n",
    "def IR_SSBM2(A,Z_init,k, iter=10):\n",
    "    n = Z_init.shape[0]\n",
    "    W = Z_init/Z_init.sum(0)\n",
    "    clust = convertZ(Z_init)\n",
    "    mask = np.ones((K,K))-np.diag(np.ones(K))\n",
    "    for rep in range(iter):\n",
    "        C = A @ W\n",
    "        Pi = np.transpose(W)@A@W\n",
    "        diag = np.mean(np.diagonal(Pi))\n",
    "        #np.fill_diagonal(Pi, diag)\n",
    "        out_diag = np.average(Pi,weights=mask)\n",
    "        Pi = out_diag*np.ones((K,K))+(diag-out_diag)*np.diag(np.ones(K))\n",
    "        for i in range(n):\n",
    "            ls = [np.linalg.norm(C[i,]-Pi[kk,]) for kk in range(k)]\n",
    "            clust[i] = np.argmin(ls)\n",
    "        W = convertClust(clust)/convertClust(clust).sum(0)\n",
    "        return clust"
   ]
  },
  {
   "cell_type": "code",
   "execution_count": 63,
   "id": "6bfdddfc",
   "metadata": {},
   "outputs": [
    {
     "data": {
      "text/plain": [
       "0.0"
      ]
     },
     "execution_count": 63,
     "metadata": {},
     "output_type": "execute_result"
    }
   ],
   "source": [
    "Pi= np.zeros((3, 3), int)\n",
    "np.fill_diagonal(Pi, 5)\n",
    "np.mean(np.diagonal(Pi))\n",
    "K=3\n",
    "mask = np.ones((K,K))-np.diag(np.ones(K))\n",
    "np.average(Pi,weights=mask)"
   ]
  },
  {
   "cell_type": "code",
   "execution_count": 3,
   "id": "e66335ac",
   "metadata": {},
   "outputs": [],
   "source": [
    "# Data generation\n",
    "n=5000\n",
    "K=15\n",
    "p=0.02\n",
    "eta=0.10\n",
    "\n",
    "# sample a random matrix and a cluster object\n",
    "A, assignments = SSBM(n=n, k=K, pin=p, etain=eta, sizes='uniform')\n",
    "m = Cluster(A)"
   ]
  },
  {
   "cell_type": "code",
   "execution_count": 9,
   "id": "413c5e16",
   "metadata": {},
   "outputs": [],
   "source": [
    "predictions1 = m.SPONGE(K, tau_p=1, tau_n=1, eigens=None, mi=None)\n",
    "predictions2 = m.SPONGE_sym(K, tau_p=1, tau_n=1, eigens=None, mi=None)\n",
    "predictions3 = sIR_SBM(A[0]-A[1],convertClust(predictions2), K,iter=10)\n",
    "predictions4 = IR_SSBM(A[0]-A[1],convertClust(predictions2), K,iter=10)\n",
    "predictions5 = IR_SSBM2(A[0]-A[1],convertClust(predictions2), K,iter=10)"
   ]
  },
  {
   "cell_type": "code",
   "execution_count": 10,
   "id": "eaa95979",
   "metadata": {},
   "outputs": [
    {
     "data": {
      "text/plain": [
       "0.9585834964159978"
      ]
     },
     "execution_count": 10,
     "metadata": {},
     "output_type": "execute_result"
    }
   ],
   "source": [
    "normalized_mutual_info_score(predictions3 ,assignments)\n"
   ]
  },
  {
   "cell_type": "code",
   "execution_count": 11,
   "id": "6a0a8916",
   "metadata": {},
   "outputs": [],
   "source": [
    "def xp(n,K,p,eta,rep):\n",
    "    scores = np.zeros((rep,5))\n",
    "    for r in range(rep):\n",
    "        A, assignments = SSBM(n=n, k=K, pin=p, etain=eta, sizes='uniform')\n",
    "        m = Cluster(A)\n",
    "        predictions1 = m.SPONGE(K, tau_p=1, tau_n=1, eigens=None, mi=None)\n",
    "        predictions2 = m.SPONGE_sym(K, tau_p=1, tau_n=1, eigens=None, mi=None)\n",
    "        predictions3 = sIR_SBM(A[0]-A[1],convertClust(predictions2), K,iter=10)\n",
    "        predictions4 = IR_SSBM(A[0]-A[1],convertClust(predictions2), K,iter=10)\n",
    "        predictions5 = IR_SSBM2(A[0]-A[1],convertClust(predictions2), K,iter=10)\n",
    "        scores[r,0]= normalized_mutual_info_score(predictions1 ,assignments)\n",
    "        scores[r,1]= normalized_mutual_info_score(predictions2 ,assignments)\n",
    "        scores[r,2]= normalized_mutual_info_score(predictions3 ,assignments)\n",
    "        scores[r,3]= normalized_mutual_info_score(predictions4 ,assignments)\n",
    "        scores[r,4]= normalized_mutual_info_score(predictions5 ,assignments)\n",
    "    return np.mean(scores,axis=0)"
   ]
  },
  {
   "cell_type": "code",
   "execution_count": 89,
   "id": "22f11f10",
   "metadata": {},
   "outputs": [
    {
     "data": {
      "text/plain": [
       "array([0.04, 0.41, 0.52, 0.51, 0.51])"
      ]
     },
     "execution_count": 89,
     "metadata": {},
     "output_type": "execute_result"
    }
   ],
   "source": [
    "\n",
    "xp(n,K,p,eta,2)"
   ]
  },
  {
   "cell_type": "code",
   "execution_count": 12,
   "id": "42578f8e",
   "metadata": {},
   "outputs": [],
   "source": [
    "etas = np.round(np.linspace(0., 0.25, 30), 5)\n",
    "scores = np.zeros((len(etas),5))\n",
    "for i in range(len(etas)):\n",
    "    scores[i,:] = xp(n,K,p,etas[i],20)"
   ]
  },
  {
   "cell_type": "code",
   "execution_count": 13,
   "id": "ace9fc41",
   "metadata": {},
   "outputs": [],
   "source": [
    "cmap = plt.cm.get_cmap('tab10')\n",
    "markers = ('o', 'v', '^', '<', '>',  's', 'p', '*', 'h', 'H', 'D', 'd', 'P', 'X', '8')\n",
    "\n",
    "df=pd.DataFrame(scores, columns=['Sponge','Sponge_sym',\"sIR-SBM\",\"IR-SSBM\",\"IR-SSBM2\"]) \n",
    "df['eta']=etas\n",
    "df\n",
    "\n",
    "df.to_csv('scores.csv', index=False)"
   ]
  },
  {
   "cell_type": "code",
   "execution_count": 1,
   "id": "438b2aee",
   "metadata": {},
   "outputs": [
    {
     "ename": "NameError",
     "evalue": "name 'plt' is not defined",
     "output_type": "error",
     "traceback": [
      "\u001b[0;31m---------------------------------------------------------------------------\u001b[0m",
      "\u001b[0;31mNameError\u001b[0m                                 Traceback (most recent call last)",
      "\u001b[0;32m/tmp/ipykernel_60084/3268346497.py\u001b[0m in \u001b[0;36m<module>\u001b[0;34m\u001b[0m\n\u001b[0;32m----> 1\u001b[0;31m \u001b[0mplt\u001b[0m\u001b[0;34m.\u001b[0m\u001b[0mfigure\u001b[0m\u001b[0;34m(\u001b[0m\u001b[0;34m)\u001b[0m\u001b[0;34m\u001b[0m\u001b[0;34m\u001b[0m\u001b[0m\n\u001b[0m\u001b[1;32m      2\u001b[0m \u001b[0;34m\u001b[0m\u001b[0m\n\u001b[1;32m      3\u001b[0m \u001b[0max\u001b[0m\u001b[0;34m=\u001b[0m\u001b[0mdf\u001b[0m\u001b[0;34m.\u001b[0m\u001b[0mplot\u001b[0m\u001b[0;34m(\u001b[0m\u001b[0my\u001b[0m\u001b[0;34m=\u001b[0m\u001b[0;34m[\u001b[0m\u001b[0;34m'Sponge'\u001b[0m\u001b[0;34m]\u001b[0m\u001b[0;34m,\u001b[0m\u001b[0mx\u001b[0m\u001b[0;34m=\u001b[0m\u001b[0;34m'eta'\u001b[0m\u001b[0;34m)\u001b[0m\u001b[0;34m\u001b[0m\u001b[0;34m\u001b[0m\u001b[0m\n\u001b[1;32m      4\u001b[0m \u001b[0;32mfor\u001b[0m \u001b[0mi\u001b[0m\u001b[0;34m,\u001b[0m \u001b[0mline\u001b[0m \u001b[0;32min\u001b[0m \u001b[0menumerate\u001b[0m\u001b[0;34m(\u001b[0m\u001b[0max\u001b[0m\u001b[0;34m.\u001b[0m\u001b[0mget_lines\u001b[0m\u001b[0;34m(\u001b[0m\u001b[0;34m)\u001b[0m\u001b[0;34m)\u001b[0m\u001b[0;34m:\u001b[0m\u001b[0;34m\u001b[0m\u001b[0;34m\u001b[0m\u001b[0m\n\u001b[1;32m      5\u001b[0m     \u001b[0mline\u001b[0m\u001b[0;34m.\u001b[0m\u001b[0mset_marker\u001b[0m\u001b[0;34m(\u001b[0m\u001b[0mmarkers\u001b[0m\u001b[0;34m[\u001b[0m\u001b[0mi\u001b[0m\u001b[0;34m]\u001b[0m\u001b[0;34m)\u001b[0m\u001b[0;34m\u001b[0m\u001b[0;34m\u001b[0m\u001b[0m\n",
      "\u001b[0;31mNameError\u001b[0m: name 'plt' is not defined"
     ]
    }
   ],
   "source": [
    "plt.figure()\n",
    "\n",
    "ax=df.plot(y=['Sponge'],x='eta')\n",
    "for i, line in enumerate(ax.get_lines()):\n",
    "    line.set_marker(markers[i])\n",
    "plt.title(r'K = 15, n=5000, p =0.02 ')\n",
    "plt.xlabel(r'Sign flip probability $(\\eta)$')\n",
    "plt.ylabel(r'Recovery score')\n",
    "plt.legend(loc = 5)\n",
    "\n",
    "plt.show()"
   ]
  }
 ],
 "metadata": {
  "kernelspec": {
   "display_name": "Python 3 (ipykernel)",
   "language": "python",
   "name": "python3"
  },
  "language_info": {
   "codemirror_mode": {
    "name": "ipython",
    "version": 3
   },
   "file_extension": ".py",
   "mimetype": "text/x-python",
   "name": "python",
   "nbconvert_exporter": "python",
   "pygments_lexer": "ipython3",
   "version": "3.8.6"
  }
 },
 "nbformat": 4,
 "nbformat_minor": 5
}
