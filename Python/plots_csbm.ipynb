{
 "cells": [
  {
   "cell_type": "code",
   "execution_count": 1,
   "id": "96bfd3fc",
   "metadata": {},
   "outputs": [],
   "source": [
    "%matplotlib inline\n",
    "import pandas as pd\n",
    "import matplotlib as mpl\n",
    "import matplotlib.pyplot as plt\n",
    "import seaborn as sns"
   ]
  },
  {
   "cell_type": "code",
   "execution_count": null,
   "id": "8ed3c4a2",
   "metadata": {},
   "outputs": [],
   "source": []
  },
  {
   "cell_type": "markdown",
   "id": "3b4a3738",
   "metadata": {},
   "source": [
    "# Load data"
   ]
  },
  {
   "cell_type": "code",
   "execution_count": 14,
   "id": "0478d491",
   "metadata": {},
   "outputs": [],
   "source": [
    "score_sbm=pd.read_csv('data/score_sbm.csv',index_col=0)\n",
    "score_csbm1=pd.read_csv('data/score_csbm1.csv')\n",
    "score_csbm2=pd.read_csv('data/score_csbm2.csv')\n",
    "score_csbm2_bis=pd.read_csv('data/score_csbm2_bis.csv')\n",
    "score_csbm2_bis3=pd.read_csv('data/score_csbm2_bis3.csv')\n",
    "#score_csbm1.head()"
   ]
  },
  {
   "cell_type": "code",
   "execution_count": 3,
   "id": "2578cd4b",
   "metadata": {},
   "outputs": [
    {
     "data": {
      "text/html": [
       "<div>\n",
       "<style scoped>\n",
       "    .dataframe tbody tr th:only-of-type {\n",
       "        vertical-align: middle;\n",
       "    }\n",
       "\n",
       "    .dataframe tbody tr th {\n",
       "        vertical-align: top;\n",
       "    }\n",
       "\n",
       "    .dataframe thead th {\n",
       "        text-align: right;\n",
       "    }\n",
       "</style>\n",
       "<table border=\"1\" class=\"dataframe\">\n",
       "  <thead>\n",
       "    <tr style=\"text-align: right;\">\n",
       "      <th></th>\n",
       "      <th>EM-Emb</th>\n",
       "      <th>IR-LS (rd)</th>\n",
       "      <th>IR-sLS (rd)</th>\n",
       "      <th>IR-LS</th>\n",
       "      <th>IR-sLS</th>\n",
       "    </tr>\n",
       "  </thead>\n",
       "  <tbody>\n",
       "    <tr>\n",
       "      <th>0</th>\n",
       "      <td>0.451899</td>\n",
       "      <td>0.861373</td>\n",
       "      <td>0.863307</td>\n",
       "      <td>0.870713</td>\n",
       "      <td>0.869773</td>\n",
       "    </tr>\n",
       "    <tr>\n",
       "      <th>1</th>\n",
       "      <td>0.740838</td>\n",
       "      <td>0.891285</td>\n",
       "      <td>0.898600</td>\n",
       "      <td>0.891285</td>\n",
       "      <td>0.887774</td>\n",
       "    </tr>\n",
       "    <tr>\n",
       "      <th>2</th>\n",
       "      <td>0.652574</td>\n",
       "      <td>0.902790</td>\n",
       "      <td>0.891690</td>\n",
       "      <td>0.902790</td>\n",
       "      <td>0.891690</td>\n",
       "    </tr>\n",
       "    <tr>\n",
       "      <th>3</th>\n",
       "      <td>0.621377</td>\n",
       "      <td>0.894383</td>\n",
       "      <td>0.907308</td>\n",
       "      <td>0.897853</td>\n",
       "      <td>0.907308</td>\n",
       "    </tr>\n",
       "    <tr>\n",
       "      <th>4</th>\n",
       "      <td>0.492684</td>\n",
       "      <td>0.868540</td>\n",
       "      <td>0.848058</td>\n",
       "      <td>0.883620</td>\n",
       "      <td>0.864917</td>\n",
       "    </tr>\n",
       "  </tbody>\n",
       "</table>\n",
       "</div>"
      ],
      "text/plain": [
       "     EM-Emb  IR-LS (rd)  IR-sLS (rd)     IR-LS    IR-sLS\n",
       "0  0.451899    0.861373     0.863307  0.870713  0.869773\n",
       "1  0.740838    0.891285     0.898600  0.891285  0.887774\n",
       "2  0.652574    0.902790     0.891690  0.902790  0.891690\n",
       "3  0.621377    0.894383     0.907308  0.897853  0.907308\n",
       "4  0.492684    0.868540     0.848058  0.883620  0.864917"
      ]
     },
     "execution_count": 3,
     "metadata": {},
     "output_type": "execute_result"
    }
   ],
   "source": [
    "score_csbm2_bis3.head()"
   ]
  },
  {
   "cell_type": "markdown",
   "id": "a24ffa56",
   "metadata": {},
   "source": [
    "# Boxplot for Experiment 5.1: CSBM with not well separated communities on each source of information"
   ]
  },
  {
   "cell_type": "code",
   "execution_count": 7,
   "id": "06233e6d",
   "metadata": {},
   "outputs": [],
   "source": [
    "# Sort the df by means\n",
    "sorted_index = score_csbm1.mean().sort_values().index\n",
    "df_sorted=score_csbm1[sorted_index]\n",
    "\n",
    "sorted_index2 = score_csbm2.mean().sort_values().index\n",
    "df_sorted2=score_csbm2[sorted_index2]"
   ]
  },
  {
   "cell_type": "code",
   "execution_count": 15,
   "id": "0f758b28",
   "metadata": {},
   "outputs": [],
   "source": [
    "sorted_index2_bis3 = score_csbm2_bis3.mean().sort_values().index\n",
    "df_sorted2_bis3=score_csbm2_bis3[sorted_index2_bis3]"
   ]
  },
  {
   "cell_type": "code",
   "execution_count": 12,
   "id": "daa22649",
   "metadata": {},
   "outputs": [
    {
     "data": {
      "text/html": [
       "<div>\n",
       "<style scoped>\n",
       "    .dataframe tbody tr th:only-of-type {\n",
       "        vertical-align: middle;\n",
       "    }\n",
       "\n",
       "    .dataframe tbody tr th {\n",
       "        vertical-align: top;\n",
       "    }\n",
       "\n",
       "    .dataframe thead th {\n",
       "        text-align: right;\n",
       "    }\n",
       "</style>\n",
       "<table border=\"1\" class=\"dataframe\">\n",
       "  <thead>\n",
       "    <tr style=\"text-align: right;\">\n",
       "      <th></th>\n",
       "      <th>EM-Emb</th>\n",
       "      <th>IR-sLS (rd)</th>\n",
       "      <th>IR-LS (rd)</th>\n",
       "      <th>IR-sLS</th>\n",
       "      <th>IR-LS</th>\n",
       "    </tr>\n",
       "  </thead>\n",
       "  <tbody>\n",
       "    <tr>\n",
       "      <th>0</th>\n",
       "      <td>0.451899</td>\n",
       "      <td>0.863307</td>\n",
       "      <td>0.861373</td>\n",
       "      <td>0.869773</td>\n",
       "      <td>0.870713</td>\n",
       "    </tr>\n",
       "    <tr>\n",
       "      <th>1</th>\n",
       "      <td>0.740838</td>\n",
       "      <td>0.898600</td>\n",
       "      <td>0.891285</td>\n",
       "      <td>0.887774</td>\n",
       "      <td>0.891285</td>\n",
       "    </tr>\n",
       "    <tr>\n",
       "      <th>2</th>\n",
       "      <td>0.652574</td>\n",
       "      <td>0.891690</td>\n",
       "      <td>0.902790</td>\n",
       "      <td>0.891690</td>\n",
       "      <td>0.902790</td>\n",
       "    </tr>\n",
       "    <tr>\n",
       "      <th>3</th>\n",
       "      <td>0.621377</td>\n",
       "      <td>0.907308</td>\n",
       "      <td>0.894383</td>\n",
       "      <td>0.907308</td>\n",
       "      <td>0.897853</td>\n",
       "    </tr>\n",
       "    <tr>\n",
       "      <th>4</th>\n",
       "      <td>0.492684</td>\n",
       "      <td>0.848058</td>\n",
       "      <td>0.868540</td>\n",
       "      <td>0.864917</td>\n",
       "      <td>0.883620</td>\n",
       "    </tr>\n",
       "  </tbody>\n",
       "</table>\n",
       "</div>"
      ],
      "text/plain": [
       "     EM-Emb  IR-sLS (rd)  IR-LS (rd)    IR-sLS     IR-LS\n",
       "0  0.451899     0.863307    0.861373  0.869773  0.870713\n",
       "1  0.740838     0.898600    0.891285  0.887774  0.891285\n",
       "2  0.652574     0.891690    0.902790  0.891690  0.902790\n",
       "3  0.621377     0.907308    0.894383  0.907308  0.897853\n",
       "4  0.492684     0.848058    0.868540  0.864917  0.883620"
      ]
     },
     "execution_count": 12,
     "metadata": {},
     "output_type": "execute_result"
    }
   ],
   "source": [
    "df_sorted2_bis3.head()\n"
   ]
  },
  {
   "cell_type": "code",
   "execution_count": 25,
   "id": "c15fe223",
   "metadata": {
    "scrolled": true
   },
   "outputs": [
    {
     "data": {
      "image/png": "[encoded data removed]",
      "text/plain": [
       "<Figure size 432x288 with 1 Axes>"
      ]
     },
     "metadata": {},
     "output_type": "display_data"
    }
   ],
   "source": [
    "plt.figure()\n",
    "sns.set(style=\"whitegrid\")\n",
    "b = sns.boxplot(data = df_sorted, width=0.5)\n",
    "b.set_ylabel(\"NMI\",fontsize=12, weight='bold')\n",
    "b.set_xlabel(\"\",fontsize=12)\n",
    "b.tick_params(labelsize=12)\n",
    "plt.xticks(rotation=25,weight='bold')\n",
    "plt.yticks(weight='bold')\n",
    "#plt.savefig('boxplot_csbm1.eps', format='eps')\n",
    "plt.show()"
   ]
  },
  {
   "cell_type": "code",
   "execution_count": 27,
   "id": "79e800ac",
   "metadata": {},
   "outputs": [
    {
     "data": {
      "image/png": "[encoded data removed]",
      "text/plain": [
       "<Figure size 432x288 with 1 Axes>"
      ]
     },
     "metadata": {},
     "output_type": "display_data"
    }
   ],
   "source": [
    "plt.figure()\n",
    "sns.set(style=\"whitegrid\")\n",
    "b = sns.boxplot(data = df_sorted2_bis, width=0.5)\n",
    "b.set_ylabel(\"NMI\",fontsize=12, weight='bold')\n",
    "b.set_xlabel(\"\",fontsize=12)\n",
    "b.tick_params(labelsize=12)\n",
    "plt.xticks(rotation=25,weight='bold')\n",
    "plt.yticks(weight='bold')\n",
    "plt.savefig('boxplot_csbm2_bis.eps', format='eps')\n",
    "plt.show()"
   ]
  },
  {
   "cell_type": "code",
   "execution_count": 16,
   "id": "2e0fde7f",
   "metadata": {},
   "outputs": [
    {
     "data": {
      "image/png": "[encoded data removed]",
      "text/plain": [
       "<Figure size 432x288 with 1 Axes>"
      ]
     },
     "metadata": {},
     "output_type": "display_data"
    }
   ],
   "source": [
    "plt.figure()\n",
    "sns.set(style=\"whitegrid\")\n",
    "b = sns.boxplot(data = df_sorted2_bis3, width=0.5)\n",
    "b.set_ylabel(\"NMI\",fontsize=12, weight='bold')\n",
    "b.set_xlabel(\"\",fontsize=12)\n",
    "b.tick_params(labelsize=12)\n",
    "plt.xticks(rotation=25,weight='bold')\n",
    "plt.yticks(weight='bold')\n",
    "plt.savefig('boxplot_csbm2_bis3.eps', format='eps')\n",
    "plt.show()"
   ]
  },
  {
   "cell_type": "code",
   "execution_count": 11,
   "id": "3e69e927",
   "metadata": {},
   "outputs": [
    {
     "data": {
      "image/png": "[encoded data removed]",
      "text/plain": [
       "<Figure size 432x288 with 1 Axes>"
      ]
     },
     "metadata": {},
     "output_type": "display_data"
    }
   ],
   "source": [
    "plt.figure()\n",
    "sns.set(style=\"whitegrid\")\n",
    "b = sns.boxplot(data = df_sorted2, width=0.5)\n",
    "b.set_ylabel(\"NMI\",fontsize=12, weight='bold')\n",
    "b.set_xlabel(\"\",fontsize=12)\n",
    "b.tick_params(labelsize=12)\n",
    "plt.xticks(rotation=25,weight='bold')\n",
    "plt.yticks(weight='bold')\n",
    "#plt.savefig('boxplot_csbm2.eps', format='eps')\n",
    "plt.show()"
   ]
  },
  {
   "cell_type": "markdown",
   "id": "f029d662",
   "metadata": {},
   "source": [
    "# Boxplot for Experiment E.1 : heterophilic SBM"
   ]
  },
  {
   "cell_type": "code",
   "execution_count": 17,
   "id": "d32dce54",
   "metadata": {},
   "outputs": [],
   "source": [
    "sorted_index2 = score_sbm.mean().sort_values().index\n",
    "df_sorted2=score_sbm[sorted_index2]"
   ]
  },
  {
   "cell_type": "code",
   "execution_count": 18,
   "id": "962d71c0",
   "metadata": {},
   "outputs": [
    {
     "data": {
      "image/png": "[encoded data removed]",
      "text/plain": [
       "<Figure size 432x288 with 1 Axes>"
      ]
     },
     "metadata": {},
     "output_type": "display_data"
    }
   ],
   "source": [
    "plt.figure()\n",
    "sns.set(style=\"whitegrid\")\n",
    "b = sns.boxplot(data = df_sorted2, width=0.5)\n",
    "b.set_ylabel(\"NMI\",fontsize=12, weight='bold')\n",
    "b.set_xlabel(\"\",fontsize=12)\n",
    "b.tick_params(labelsize=12)\n",
    "plt.xticks(rotation=25,weight='bold')\n",
    "plt.yticks(weight='bold')\n",
    "plt.savefig('boxplot.eps', format='eps')\n",
    "plt.show()"
   ]
  },
  {
   "cell_type": "code",
   "execution_count": 2,
   "id": "fe01b31e",
   "metadata": {},
   "outputs": [
    {
     "data": {
      "text/html": [
       "<div>\n",
       "<style scoped>\n",
       "    .dataframe tbody tr th:only-of-type {\n",
       "        vertical-align: middle;\n",
       "    }\n",
       "\n",
       "    .dataframe tbody tr th {\n",
       "        vertical-align: top;\n",
       "    }\n",
       "\n",
       "    .dataframe thead th {\n",
       "        text-align: right;\n",
       "    }\n",
       "</style>\n",
       "<table border=\"1\" class=\"dataframe\">\n",
       "  <thead>\n",
       "    <tr style=\"text-align: right;\">\n",
       "      <th></th>\n",
       "      <th>IR-MAP</th>\n",
       "      <th>sIR-LS</th>\n",
       "      <th>c</th>\n",
       "    </tr>\n",
       "  </thead>\n",
       "  <tbody>\n",
       "    <tr>\n",
       "      <th>V1</th>\n",
       "      <td>0.243502</td>\n",
       "      <td>0.247746</td>\n",
       "      <td>0.10</td>\n",
       "    </tr>\n",
       "    <tr>\n",
       "      <th>V2</th>\n",
       "      <td>0.431272</td>\n",
       "      <td>0.510784</td>\n",
       "      <td>0.15</td>\n",
       "    </tr>\n",
       "    <tr>\n",
       "      <th>V3</th>\n",
       "      <td>0.632677</td>\n",
       "      <td>0.730254</td>\n",
       "      <td>0.20</td>\n",
       "    </tr>\n",
       "    <tr>\n",
       "      <th>V4</th>\n",
       "      <td>0.812933</td>\n",
       "      <td>0.850677</td>\n",
       "      <td>0.25</td>\n",
       "    </tr>\n",
       "    <tr>\n",
       "      <th>V5</th>\n",
       "      <td>0.828276</td>\n",
       "      <td>0.914613</td>\n",
       "      <td>0.30</td>\n",
       "    </tr>\n",
       "  </tbody>\n",
       "</table>\n",
       "</div>"
      ],
      "text/plain": [
       "      IR-MAP    sIR-LS     c\n",
       "V1  0.243502  0.247746  0.10\n",
       "V2  0.431272  0.510784  0.15\n",
       "V3  0.632677  0.730254  0.20\n",
       "V4  0.812933  0.850677  0.25\n",
       "V5  0.828276  0.914613  0.30"
      ]
     },
     "execution_count": 2,
     "metadata": {},
     "output_type": "execute_result"
    }
   ],
   "source": [
    "score_rd=pd.read_csv('data/score_rd.csv')\n",
    "score_rd=score_rd.transpose()\n",
    "score_rd.columns=['IR-MAP','sIR-LS','c']\n",
    "score_rd.head()"
   ]
  },
  {
   "cell_type": "code",
   "execution_count": 3,
   "id": "5b3544b3",
   "metadata": {},
   "outputs": [
    {
     "data": {
      "text/plain": [
       "<Figure size 432x288 with 0 Axes>"
      ]
     },
     "metadata": {},
     "output_type": "display_data"
    },
    {
     "data": {
      "image/png": "[encoded data removed]",
      "text/plain": [
       "<Figure size 432x288 with 1 Axes>"
      ]
     },
     "metadata": {
      "needs_background": "light"
     },
     "output_type": "display_data"
    }
   ],
   "source": [
    "plt.figure()\n",
    "p=score_rd.plot(x='c')\n",
    "p.set_ylabel(\"NMI\",fontsize=12, weight='bold')\n",
    "p.set_xlabel(\"c\",fontsize=12, weight='bold')\n",
    "p.legend(loc=4)\n",
    "plt.savefig('xp_rd.eps',format='eps', bbox_inches='tight')\n",
    "plt.show()"
   ]
  },
  {
   "cell_type": "code",
   "execution_count": 28,
   "id": "55e6313b",
   "metadata": {},
   "outputs": [
    {
     "data": {
      "text/html": [
       "<div>\n",
       "<style scoped>\n",
       "    .dataframe tbody tr th:only-of-type {\n",
       "        vertical-align: middle;\n",
       "    }\n",
       "\n",
       "    .dataframe tbody tr th {\n",
       "        vertical-align: top;\n",
       "    }\n",
       "\n",
       "    .dataframe thead th {\n",
       "        text-align: right;\n",
       "    }\n",
       "</style>\n",
       "<table border=\"1\" class=\"dataframe\">\n",
       "  <thead>\n",
       "    <tr style=\"text-align: right;\">\n",
       "      <th></th>\n",
       "      <th>IR-MAP</th>\n",
       "      <th>IR-LS</th>\n",
       "      <th>c</th>\n",
       "    </tr>\n",
       "  </thead>\n",
       "  <tbody>\n",
       "    <tr>\n",
       "      <th>V1</th>\n",
       "      <td>0.243502</td>\n",
       "      <td>0.247746</td>\n",
       "      <td>0.10</td>\n",
       "    </tr>\n",
       "    <tr>\n",
       "      <th>V2</th>\n",
       "      <td>0.431272</td>\n",
       "      <td>0.510784</td>\n",
       "      <td>0.15</td>\n",
       "    </tr>\n",
       "    <tr>\n",
       "      <th>V3</th>\n",
       "      <td>0.632677</td>\n",
       "      <td>0.730254</td>\n",
       "      <td>0.20</td>\n",
       "    </tr>\n",
       "    <tr>\n",
       "      <th>V4</th>\n",
       "      <td>0.812933</td>\n",
       "      <td>0.850677</td>\n",
       "      <td>0.25</td>\n",
       "    </tr>\n",
       "    <tr>\n",
       "      <th>V5</th>\n",
       "      <td>0.828276</td>\n",
       "      <td>0.914613</td>\n",
       "      <td>0.30</td>\n",
       "    </tr>\n",
       "    <tr>\n",
       "      <th>V6</th>\n",
       "      <td>0.962429</td>\n",
       "      <td>0.958828</td>\n",
       "      <td>0.35</td>\n",
       "    </tr>\n",
       "    <tr>\n",
       "      <th>V7</th>\n",
       "      <td>0.930128</td>\n",
       "      <td>0.975740</td>\n",
       "      <td>0.40</td>\n",
       "    </tr>\n",
       "    <tr>\n",
       "      <th>V8</th>\n",
       "      <td>0.991854</td>\n",
       "      <td>0.990242</td>\n",
       "      <td>0.45</td>\n",
       "    </tr>\n",
       "    <tr>\n",
       "      <th>V9</th>\n",
       "      <td>0.993916</td>\n",
       "      <td>0.992055</td>\n",
       "      <td>0.50</td>\n",
       "    </tr>\n",
       "  </tbody>\n",
       "</table>\n",
       "</div>"
      ],
      "text/plain": [
       "      IR-MAP     IR-LS     c\n",
       "V1  0.243502  0.247746  0.10\n",
       "V2  0.431272  0.510784  0.15\n",
       "V3  0.632677  0.730254  0.20\n",
       "V4  0.812933  0.850677  0.25\n",
       "V5  0.828276  0.914613  0.30\n",
       "V6  0.962429  0.958828  0.35\n",
       "V7  0.930128  0.975740  0.40\n",
       "V8  0.991854  0.990242  0.45\n",
       "V9  0.993916  0.992055  0.50"
      ]
     },
     "execution_count": 28,
     "metadata": {},
     "output_type": "execute_result"
    }
   ],
   "source": [
    "score_rd"
   ]
  }
 ],
 "metadata": {
  "kernelspec": {
   "display_name": "Python 3 (ipykernel)",
   "language": "python",
   "name": "python3"
  },
  "language_info": {
   "codemirror_mode": {
    "name": "ipython",
    "version": 3
   },
   "file_extension": ".py",
   "mimetype": "text/x-python",
   "name": "python",
   "nbconvert_exporter": "python",
   "pygments_lexer": "ipython3",
   "version": "3.8.6"
  }
 },
 "nbformat": 4,
 "nbformat_minor": 5
}
