{
 "cells": [
  {
   "cell_type": "code",
   "execution_count": 1,
   "id": "bcbae0be",
   "metadata": {},
   "outputs": [],
   "source": [
    "import numpy as np\n",
    "import pandas as pd\n",
    "import seaborn as sns\n",
    "from signet.cluster import Cluster \n",
    "from signet.block_models import SSBM\n",
    "from sklearn.metrics import adjusted_rand_score\n",
    "from sklearn.metrics.cluster import normalized_mutual_info_score\n",
    "import matplotlib.pyplot as plt\n",
    "from functions import *"
   ]
  },
  {
   "cell_type": "code",
   "execution_count": 7,
   "id": "e66335ac",
   "metadata": {},
   "outputs": [],
   "source": [
    "n=1000\n",
    "K=3\n",
    "p=0.01\n",
    "eta=0.10\n",
    "\n",
    "\n",
    "# sample a random matrix and a cluster object\n",
    "A, assignments = SSBM(n=n, k=K, pin=p, etain=eta, sizes='uniform')\n",
    "m = Cluster(A)"
   ]
  },
  {
   "cell_type": "code",
   "execution_count": 12,
   "id": "6d5c1c9f",
   "metadata": {},
   "outputs": [],
   "source": [
    "predictions = m.SPONGE(K, tau_p=1, tau_n=1, eigens=None, mi=None)\n",
    "predictions2 = m.SPONGE_sym(K, tau_p=1, tau_n=1, eigens=None, mi=None)\n"
   ]
  },
  {
   "cell_type": "code",
   "execution_count": 13,
   "id": "51e5eda0",
   "metadata": {},
   "outputs": [],
   "source": [
    "def sIR_SBM(A,Z_init,k, iter=10):\n",
    "    n = Z_init.shape[0]\n",
    "    W = Z_init/Z_init.sum(0)\n",
    "    clust = convertZ(Z_init)\n",
    "    for rep in range(iter):\n",
    "        C = A @ W\n",
    "        Pi = np.transpose(W)@A@W\n",
    "        for i in range(n):\n",
    "            ls = [np.linalg.norm(C[i,]-Pi[kk,]) for kk in range(k)]\n",
    "            clust[i] = np.argmin(ls)\n",
    "        W = convertClust(clust)/convertClust(clust).sum(0)\n",
    "        return clust\n",
    "    \n",
    "def IR_SSBM(A,Z_init,k, iter=10):\n",
    "    n = Z_init.shape[0]\n",
    "    W = Z_init/Z_init.sum(0)\n",
    "    clust = convertZ(Z_init)\n",
    "    for rep in range(iter):\n",
    "        C = A @ W\n",
    "        for i in range(n):\n",
    "            clust[i] = np.argmax(C[i,:])\n",
    "        W = convertClust(clust)/convertClust(clust).sum(0)\n",
    "        return clust\n"
   ]
  },
  {
   "cell_type": "code",
   "execution_count": null,
   "id": "d7fd82b9",
   "metadata": {},
   "outputs": [],
   "source": []
  }
 ],
 "metadata": {
  "kernelspec": {
   "display_name": "Python 3 (ipykernel)",
   "language": "python",
   "name": "python3"
  },
  "language_info": {
   "codemirror_mode": {
    "name": "ipython",
    "version": 3
   },
   "file_extension": ".py",
   "mimetype": "text/x-python",
   "name": "python",
   "nbconvert_exporter": "python",
   "pygments_lexer": "ipython3",
   "version": "3.8.6"
  }
 },
 "nbformat": 4,
 "nbformat_minor": 5
}
